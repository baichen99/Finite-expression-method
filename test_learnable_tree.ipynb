{
 "cells": [
  {
   "cell_type": "code",
   "execution_count": 1,
   "metadata": {},
   "outputs": [],
   "source": [
    "from controller import LearnableTree\n",
    "from tree import BinaryTree\n",
    "import torch\n",
    "import torch.nn as nn\n",
    "import function as func\n",
    "from pde import possion_eq, true_solution, generate_boundary_points, cal_l2_relative_error"
   ]
  },
  {
   "cell_type": "code",
   "execution_count": 2,
   "metadata": {},
   "outputs": [],
   "source": [
    "unary = func.unary_functions\n",
    "binary = func.binary_functions"
   ]
  },
  {
   "cell_type": "code",
   "execution_count": 3,
   "metadata": {},
   "outputs": [],
   "source": [
    "    # build a computation tree\n",
    "    #     X\n",
    "    #    / \\\n",
    "    #   X   X\n",
    "    #  / \\  |\n",
    "    # X  X  X  \n",
    "tree = BinaryTree(node_operator=None, is_unary=False)\n",
    "tree.leftChild = BinaryTree(node_operator=None, is_unary=False)\n",
    "tree.rightChild = BinaryTree(node_operator=None, is_unary=True)\n",
    "tree.leftChild.leftChild = BinaryTree(node_operator=None, is_unary=True)\n",
    "tree.leftChild.rightChild = BinaryTree(node_operator=None, is_unary=True)\n",
    "tree.rightChild.leftChild = BinaryTree(node_operator=None, is_unary=True)\n",
    "operator_idxs = torch.tensor([5, 1, 8, 0, 8, 3])"
   ]
  },
  {
   "cell_type": "code",
   "execution_count": 4,
   "metadata": {},
   "outputs": [],
   "source": [
    "left = -1\n",
    "right = 1\n",
    "# 获取boundary points和pde points\n",
    "boundary_points = torch.rand(1000, 2) * (right - left) + left\n",
    "true_boundary = true_solution(boundary_points)\n",
    "pde_points = (torch.rand(1000, 2) * (right - left) + left).requires_grad_(True)"
   ]
  },
  {
   "cell_type": "code",
   "execution_count": 5,
   "metadata": {},
   "outputs": [],
   "source": [
    "learnable_tree = LearnableTree(tree, dim=2)\n",
    "params = learnable_tree.get_parameters()"
   ]
  },
  {
   "cell_type": "code",
   "execution_count": 6,
   "metadata": {},
   "outputs": [],
   "source": [
    "def train_learnable_tree(tree, operator_idxs, boundary_points, true_boundary, pde_points, epochs=1000, lr=0.01):\n",
    "    # 初始化LearnableTree\n",
    "    learnable_tree = LearnableTree(tree, dim=2)\n",
    "    # 定义优化器\n",
    "    optimizer = torch.optim.Adam(learnable_tree.get_parameters(), lr=lr)\n",
    "    # print('learnable tree parameters: ', learnable_tree.get_parameters())\n",
    "    \n",
    "    # 开始训练\n",
    "    for epoch in range(epochs):\n",
    "        # 前向传播\n",
    "        pred_boundary = learnable_tree(boundary_points, operator_idxs)\n",
    "        pred_pde = learnable_tree(pde_points, operator_idxs)\n",
    "        # 计算pde loss\n",
    "        pde_loss = (possion_eq(pred_pde, pde_points, 2)**2).mean()\n",
    "        # 计算boundary loss\n",
    "        boundary_loss = ((pred_boundary - true_boundary)**2).mean()\n",
    "        # 计算总loss\n",
    "        loss = pde_loss + 100 * boundary_loss\n",
    "        # 反向传播\n",
    "        optimizer.zero_grad()\n",
    "        loss.backward()\n",
    "        optimizer.step()\n",
    "        # 打印loss\n",
    "        if epoch % 100 == 0:\n",
    "            print('epoch: {}, loss: {}'.format(epoch, loss.item()))\n",
    "            params = learnable_tree.get_parameters()\n",
    "            grads = [p.grad for p in params]\n",
    "            \n"
   ]
  },
  {
   "cell_type": "code",
   "execution_count": 7,
   "metadata": {},
   "outputs": [
    {
     "name": "stdout",
     "output_type": "stream",
     "text": [
      "epoch: 0, loss: 543.5640869140625\n",
      "epoch: 100, loss: 8.505796432495117\n",
      "epoch: 200, loss: 4.204105377197266\n",
      "epoch: 300, loss: 3.4457178115844727\n",
      "epoch: 400, loss: 3.142218589782715\n",
      "epoch: 500, loss: 2.8415656089782715\n",
      "epoch: 600, loss: 2.545720338821411\n",
      "epoch: 700, loss: 2.2618842124938965\n",
      "epoch: 800, loss: 1.9943264722824097\n",
      "epoch: 900, loss: 1.7451786994934082\n"
     ]
    }
   ],
   "source": [
    "train_learnable_tree(tree, operator_idxs, boundary_points, true_boundary, pde_points, epochs=1000, lr=0.01)"
   ]
  },
  {
   "cell_type": "code",
   "execution_count": null,
   "metadata": {},
   "outputs": [],
   "source": []
  }
 ],
 "metadata": {
  "kernelspec": {
   "display_name": "base",
   "language": "python",
   "name": "python3"
  },
  "language_info": {
   "codemirror_mode": {
    "name": "ipython",
    "version": 3
   },
   "file_extension": ".py",
   "mimetype": "text/x-python",
   "name": "python",
   "nbconvert_exporter": "python",
   "pygments_lexer": "ipython3",
   "version": "3.9.16"
  },
  "orig_nbformat": 4
 },
 "nbformat": 4,
 "nbformat_minor": 2
}
