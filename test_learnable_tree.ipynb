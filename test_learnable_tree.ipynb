{
 "cells": [
  {
   "cell_type": "code",
   "execution_count": 1,
   "metadata": {},
   "outputs": [],
   "source": [
    "from controller import LearnableTree\n",
    "from tree import BinaryTree\n",
    "import torch\n",
    "import torch.nn as nn\n",
    "import function as func\n",
    "from possion.pde import possion_eq, cal_l2_relative_error\n",
    "from possion.pde import possion_true_solution as true_solution\n",
    "from possion.pde import possion_sample_bc_x as sample_bc_x\n"
   ]
  },
  {
   "cell_type": "code",
   "execution_count": 2,
   "metadata": {},
   "outputs": [],
   "source": [
    "unary = func.unary_functions\n",
    "binary = func.binary_functions"
   ]
  },
  {
   "cell_type": "code",
   "execution_count": 3,
   "metadata": {},
   "outputs": [],
   "source": [
    "    # build a computation tree\n",
    "    #     X\n",
    "    #    / \\\n",
    "    #   X   X\n",
    "    #  / \\  |\n",
    "    # X  X  X  \n",
    "tree = BinaryTree(node_operator=None, is_unary=False)\n",
    "tree.leftChild = BinaryTree(node_operator=None, is_unary=False)\n",
    "tree.rightChild = BinaryTree(node_operator=None, is_unary=True)\n",
    "tree.leftChild.leftChild = BinaryTree(node_operator=None, is_unary=True)\n",
    "tree.leftChild.rightChild = BinaryTree(node_operator=None, is_unary=True)\n",
    "tree.rightChild.leftChild = BinaryTree(node_operator=None, is_unary=True)\n",
    "operator_idxs = torch.tensor([5, 1, 8, 0, 8, 3])"
   ]
  },
  {
   "cell_type": "code",
   "execution_count": 4,
   "metadata": {},
   "outputs": [],
   "source": [
    "left = -1\n",
    "right = 1\n",
    "# 获取boundary points和pde points\n",
    "boundary_points = torch.rand(1000, 2) * (right - left) + left\n",
    "true_boundary = true_solution(boundary_points)\n",
    "pde_points = (torch.rand(1000, 2) * (right - left) + left).requires_grad_(True)"
   ]
  },
  {
   "cell_type": "code",
   "execution_count": 5,
   "metadata": {},
   "outputs": [],
   "source": [
    "learnable_tree = LearnableTree(tree, dim=2)\n",
    "params = learnable_tree.get_parameters()"
   ]
  },
  {
   "cell_type": "code",
   "execution_count": 6,
   "metadata": {},
   "outputs": [],
   "source": [
    "def train_learnable_tree(tree, operator_idxs, boundary_points, true_boundary, pde_points, epochs=1000, lr=0.01):\n",
    "    # 初始化LearnableTree\n",
    "    learnable_tree = LearnableTree(tree, dim=2)\n",
    "    # 定义优化器\n",
    "    optimizer = torch.optim.Adam(learnable_tree.get_parameters(), lr=lr)\n",
    "    # print('learnable tree parameters: ', learnable_tree.get_parameters())\n",
    "    \n",
    "    # 开始训练\n",
    "    for epoch in range(epochs):\n",
    "        # 前向传播\n",
    "        pred_boundary = learnable_tree(boundary_points, operator_idxs)\n",
    "        pred_pde = learnable_tree(pde_points, operator_idxs)\n",
    "        # 计算pde loss\n",
    "        pde_loss = (possion_eq(pred_pde, pde_points, 2)**2).mean()\n",
    "        # 计算boundary loss\n",
    "        boundary_loss = ((pred_boundary - true_boundary)**2).mean()\n",
    "        # 计算总loss\n",
    "        loss = pde_loss + 100 * boundary_loss\n",
    "        # 反向传播\n",
    "        optimizer.zero_grad()\n",
    "        loss.backward()\n",
    "        optimizer.step()\n",
    "        # 打印loss\n",
    "        if epoch % 100 == 0:\n",
    "            x_test = torch.rand(20000, 2) * (right - left) + left\n",
    "            true = true_solution(x_test)\n",
    "            pred = learnable_tree(x_test, operator_idxs)\n",
    "            l2_err = cal_l2_relative_error(pred, true)\n",
    "            print('epoch: {}, pde loss: {}, boundary loss: {}, l2 error: {}'.format(epoch, pde_loss, boundary_loss, l2_err))\n",
    "\n",
    "            \n"
   ]
  },
  {
   "cell_type": "code",
   "execution_count": 7,
   "metadata": {},
   "outputs": [
    {
     "name": "stdout",
     "output_type": "stream",
     "text": [
      "epoch: 0, pde loss: 10.427647590637207, boundary loss: 0.1359492391347885, l2 error: 0.8953984379768372\n",
      "epoch: 100, pde loss: 0.559153139591217, boundary loss: 0.0070700980722904205, l2 error: 0.2090953290462494\n",
      "epoch: 200, pde loss: 0.10199389606714249, boundary loss: 0.00040378657286055386, l2 error: 0.04920344054698944\n",
      "epoch: 300, pde loss: 0.0311147291213274, boundary loss: 5.459683598019183e-05, l2 error: 0.018310105428099632\n",
      "epoch: 400, pde loss: 0.011383498087525368, boundary loss: 5.135366791364504e-06, l2 error: 0.00612399447709322\n",
      "epoch: 500, pde loss: 0.0065131415612995625, boundary loss: 6.482395292550791e-06, l2 error: 0.006411783397197723\n",
      "epoch: 600, pde loss: 0.004578797146677971, boundary loss: 1.0634038517309818e-05, l2 error: 0.008128189481794834\n",
      "epoch: 700, pde loss: 0.0035551704932004213, boundary loss: 1.377131775370799e-05, l2 error: 0.009251370094716549\n",
      "epoch: 800, pde loss: 0.00298957247287035, boundary loss: 1.6115474863909185e-05, l2 error: 0.00997280515730381\n",
      "epoch: 900, pde loss: 0.00267607974819839, boundary loss: 1.7705140635371208e-05, l2 error: 0.010473892092704773\n"
     ]
    }
   ],
   "source": [
    "train_learnable_tree(tree, operator_idxs, boundary_points, true_boundary, pde_points, epochs=1000, lr=0.01)"
   ]
  },
  {
   "cell_type": "code",
   "execution_count": null,
   "metadata": {},
   "outputs": [],
   "source": []
  }
 ],
 "metadata": {
  "kernelspec": {
   "display_name": "base",
   "language": "python",
   "name": "python3"
  },
  "language_info": {
   "codemirror_mode": {
    "name": "ipython",
    "version": 3
   },
   "file_extension": ".py",
   "mimetype": "text/x-python",
   "name": "python",
   "nbconvert_exporter": "python",
   "pygments_lexer": "ipython3",
   "version": "3.9.16"
  },
  "orig_nbformat": 4
 },
 "nbformat": 4,
 "nbformat_minor": 2
}
